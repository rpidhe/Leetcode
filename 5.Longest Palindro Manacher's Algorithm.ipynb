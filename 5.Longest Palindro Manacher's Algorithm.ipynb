{
 "cells": [
  {
   "cell_type": "code",
   "execution_count": null,
   "metadata": {},
   "outputs": [],
   "source": [
    "class Solution:\n",
    "    def longestPalindrome(self, s):\n",
    "        expand_s = ['#']\n",
    "        for c in s:\n",
    "            expand_s.append(c)\n",
    "            expand_s.append('#')\n",
    "        longest_i = 0\n",
    "        p = [0]*len(epxand_s)\n",
    "        for i in range(len(expand_s)):\n",
    "            \n",
    "        \n",
    "        \n",
    "\n",
    "def stringToString(input):\n",
    "    import json\n",
    "\n",
    "    return json.loads(input)\n",
    "\n",
    "def main():\n",
    "    import sys\n",
    "    import io\n",
    "    def readlines():\n",
    "        for line in io.TextIOWrapper(sys.stdin.buffer, encoding='utf-8'):\n",
    "            yield line.strip('\\n')\n",
    "\n",
    "    lines = readlines()\n",
    "    while True:\n",
    "        try:\n",
    "            line = next(lines)\n",
    "            s = stringToString(line);\n",
    "            \n",
    "            ret = Solution().longestPalindrome(s)\n",
    "\n",
    "            out = (ret);\n",
    "            print(out)\n",
    "        except StopIteration:\n",
    "            break\n",
    "\n",
    "if __name__ == '__main__':\n",
    "    main()"
   ]
  }
 ],
 "metadata": {
  "kernelspec": {
   "display_name": "Python 3",
   "language": "python",
   "name": "python3"
  },
  "language_info": {
   "codemirror_mode": {
    "name": "ipython",
    "version": 3
   },
   "file_extension": ".py",
   "mimetype": "text/x-python",
   "name": "python",
   "nbconvert_exporter": "python",
   "pygments_lexer": "ipython3",
   "version": "3.6.3"
  }
 },
 "nbformat": 4,
 "nbformat_minor": 2
}
